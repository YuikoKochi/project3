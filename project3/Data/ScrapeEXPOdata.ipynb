{
 "cells": [
  {
   "cell_type": "code",
   "execution_count": 1,
   "id": "2327039a-cbf2-4b3a-bb57-9d42d50180e2",
   "metadata": {},
   "outputs": [],
   "source": [
    "from playwright.async_api import async_playwright\n",
    "playwright = await async_playwright().start()\n",
    "browser = await playwright.chromium.launch(headless = False)\n",
    "page = await browser.new_page()"
   ]
  },
  {
   "cell_type": "code",
   "execution_count": 2,
   "id": "5cc0339d-3653-4ec0-91e1-b05a28e159d6",
   "metadata": {},
   "outputs": [
    {
     "data": {
      "text/plain": [
       "<Response url='https://www.bie-paris.org/site/en/2020-dubai' request=<Request url='https://www.bie-paris.org/site/en/2020-dubai' method='GET'>>"
      ]
     },
     "execution_count": 2,
     "metadata": {},
     "output_type": "execute_result"
    }
   ],
   "source": [
    "await page.goto(\"https://www.bie-paris.org/site/en/2020-dubai\")"
   ]
  },
  {
   "cell_type": "code",
   "execution_count": 3,
   "id": "bb9f647f-7534-4650-9494-8c8e76b0145a",
   "metadata": {},
   "outputs": [],
   "source": [
    "from bs4 import BeautifulSoup\n",
    "html = await page.content()"
   ]
  },
  {
   "cell_type": "code",
   "execution_count": 4,
   "id": "632a0a63-0713-4a6f-a92d-8c04833d5d81",
   "metadata": {},
   "outputs": [
    {
     "data": {
      "text/plain": [
       "['Host Country',\n",
       " 'Category',\n",
       " 'Dates',\n",
       " 'Theme',\n",
       " 'Official Designation',\n",
       " 'Area (ha)',\n",
       " 'Organisers',\n",
       " 'Visits',\n",
       " 'Participants',\n",
       " 'Website']"
      ]
     },
     "execution_count": 4,
     "metadata": {},
     "output_type": "execute_result"
    }
   ],
   "source": [
    "soup = BeautifulSoup(html, 'html.parser')\n",
    "title_elements_dubai = soup.find_all(class_='id-title')\n",
    "titles_dubai = [element.get_text(strip=True) for element in title_elements_dubai]\n",
    "titles_dubai"
   ]
  },
  {
   "cell_type": "code",
   "execution_count": 5,
   "id": "10b6a46e-561b-4e3b-8127-54261da57452",
   "metadata": {},
   "outputs": [
    {
     "data": {
      "text/plain": [
       "['United Arab Emirates',\n",
       " 'International Registered exhibition',\n",
       " '01/10/2021 - 31/03/2022',\n",
       " 'Connecting Minds, Creating the Future',\n",
       " 'Expo 2020 Dubai',\n",
       " '438',\n",
       " 'Higher Committee',\n",
       " '24,102,967',\n",
       " '200',\n",
       " 'expo2020dubai.ae/']"
      ]
     },
     "execution_count": 5,
     "metadata": {},
     "output_type": "execute_result"
    }
   ],
   "source": [
    "value_elements_dubai = soup.find_all(class_='id-value')\n",
    "values_dubai = [element.get_text(strip=True) for element in value_elements_dubai]\n",
    "values_dubai"
   ]
  },
  {
   "cell_type": "code",
   "execution_count": 6,
   "id": "09bc5ee1-b0a7-4dcb-81a6-ccb70b9f84ab",
   "metadata": {},
   "outputs": [
    {
     "name": "stdout",
     "output_type": "stream",
     "text": [
      "Data saved to output_data.csv\n"
     ]
    }
   ],
   "source": [
    "import pandas as pd\n",
    "df = pd.DataFrame({\n",
    "    'Title': titles_dubai,\n",
    "    'Value': values_dubai\n",
    "})\n",
    "\n",
    "# print out in CSVfile\n",
    "filename = 'output_data.csv'\n",
    "df.to_csv(filename, index=False)\n",
    "\n",
    "print(f\"Data saved to {filename}\")"
   ]
  },
  {
   "cell_type": "code",
   "execution_count": 7,
   "id": "e89a1e75-46ad-4752-9edd-fa3c54ad43dc",
   "metadata": {},
   "outputs": [
    {
     "data": {
      "text/plain": [
       "<Response url='https://www.bie-paris.org/site/en/2015-milan' request=<Request url='https://www.bie-paris.org/site/en/2015-milan' method='GET'>>"
      ]
     },
     "execution_count": 7,
     "metadata": {},
     "output_type": "execute_result"
    }
   ],
   "source": [
    "from playwright.async_api import async_playwright\n",
    "playwright = await async_playwright().start()\n",
    "browser = await playwright.chromium.launch(headless = False)\n",
    "page = await browser.new_page()\n",
    "await page.goto(\"https://www.bie-paris.org/site/en/2015-milan\")"
   ]
  },
  {
   "cell_type": "code",
   "execution_count": 8,
   "id": "0f1203fb-f942-4fe1-93cf-aeb238d3f75d",
   "metadata": {},
   "outputs": [
    {
     "data": {
      "text/plain": [
       "['Host Country',\n",
       " 'Category',\n",
       " 'Dates',\n",
       " 'Theme',\n",
       " 'Official Designation',\n",
       " 'Area (ha)',\n",
       " 'Organisers',\n",
       " 'Visitors',\n",
       " 'Participants']"
      ]
     },
     "execution_count": 8,
     "metadata": {},
     "output_type": "execute_result"
    }
   ],
   "source": [
    "from bs4 import BeautifulSoup\n",
    "html = await page.content()\n",
    "soup = BeautifulSoup(html, 'html.parser')\n",
    "title_elements_milan = soup.find_all(class_='id-title')\n",
    "titles_milan = [element.get_text(strip=True) for element in title_elements_milan]\n",
    "titles_milan"
   ]
  },
  {
   "cell_type": "code",
   "execution_count": 9,
   "id": "6417bdf1-ee3b-421d-9873-df92cfb6b770",
   "metadata": {},
   "outputs": [
    {
     "data": {
      "text/plain": [
       "['Italy',\n",
       " 'International Registered exhibition',\n",
       " '01/05/2015 - 31/10/2015',\n",
       " 'Feeding the Planet, Energy for Life',\n",
       " 'International Registered Exhibition Expo 2015 Milan',\n",
       " '110',\n",
       " 'Expo 2015 SpA',\n",
       " '21,500,000',\n",
       " '139']"
      ]
     },
     "execution_count": 9,
     "metadata": {},
     "output_type": "execute_result"
    }
   ],
   "source": [
    "value_elements_milan = soup.find_all(class_='id-value')\n",
    "values_milan = [element.get_text(strip=True) for element in value_elements_milan]\n",
    "values_milan"
   ]
  },
  {
   "cell_type": "code",
   "execution_count": 10,
   "id": "9f7848bd-4c3f-431e-a2b1-ab1290029805",
   "metadata": {},
   "outputs": [],
   "source": [
    " milan_df = pd.DataFrame({\n",
    "            'milan_Title': titles_milan,\n",
    "            'milan_Value': values_milan\n",
    "        })"
   ]
  },
  {
   "cell_type": "code",
   "execution_count": 11,
   "id": "b2187efe-544b-424b-a1e6-4eb960b804ba",
   "metadata": {},
   "outputs": [
    {
     "name": "stdout",
     "output_type": "stream",
     "text": [
      "Data from Milan Expo appended to output_data.csv\n"
     ]
    }
   ],
   "source": [
    "def append_to_csv(df, output_data):\n",
    "    # Add a DataFrame into CSVfile\n",
    "    df.to_csv(filename, mode='a', header=False, index=False)\n",
    "\n",
    "# already exist CSVfile\n",
    "exist_csvfile = 'output_data.csv'\n",
    "\n",
    "# Add a data of World Expo in Milano into CSVfile\n",
    "append_to_csv(milan_df, exist_csvfile)\n",
    "\n",
    "print(f\"Data from Milan Expo appended to {exist_csvfile}\")"
   ]
  },
  {
   "cell_type": "code",
   "execution_count": 12,
   "id": "bbe1009e-cf1d-4e97-a038-a0c25398315d",
   "metadata": {},
   "outputs": [
    {
     "data": {
      "text/plain": [
       "<Response url='https://www.bie-paris.org/site/en/2010-shanghai' request=<Request url='https://www.bie-paris.org/site/en/2010-shanghai' method='GET'>>"
      ]
     },
     "execution_count": 12,
     "metadata": {},
     "output_type": "execute_result"
    }
   ],
   "source": [
    "from playwright.async_api import async_playwright\n",
    "playwright = await async_playwright().start()\n",
    "browser = await playwright.chromium.launch(headless = False)\n",
    "page = await browser.new_page()\n",
    "await page.goto(\"https://www.bie-paris.org/site/en/2010-shanghai\")"
   ]
  },
  {
   "cell_type": "code",
   "execution_count": 13,
   "id": "c29d4076-613d-4c81-a584-b0c9e8848556",
   "metadata": {},
   "outputs": [
    {
     "data": {
      "text/plain": [
       "['Host Country',\n",
       " 'Category',\n",
       " 'Dates',\n",
       " 'Theme',\n",
       " 'Official Designation',\n",
       " 'Area (ha)',\n",
       " 'Organisers',\n",
       " 'Visitors',\n",
       " 'Participants']"
      ]
     },
     "execution_count": 13,
     "metadata": {},
     "output_type": "execute_result"
    }
   ],
   "source": [
    "from bs4 import BeautifulSoup\n",
    "html = await page.content()\n",
    "soup = BeautifulSoup(html, 'html.parser')\n",
    "title_elements_Shanghai = soup.find_all(class_='id-title')\n",
    "titles_Shanghai = [element.get_text(strip=True) for element in title_elements_Shanghai]\n",
    "titles_Shanghai"
   ]
  },
  {
   "cell_type": "code",
   "execution_count": 14,
   "id": "1aef84a2-35e2-4f85-bb81-26bc54a352c5",
   "metadata": {},
   "outputs": [
    {
     "data": {
      "text/plain": [
       "['China',\n",
       " 'International Registered exhibition',\n",
       " '01/05/2010 - 31/10/2010',\n",
       " 'Better City, Better Life',\n",
       " 'Expo Shanghai 2010',\n",
       " '523',\n",
       " \"Government of the People's Republic of China\",\n",
       " '73,085,000',\n",
       " '246']"
      ]
     },
     "execution_count": 14,
     "metadata": {},
     "output_type": "execute_result"
    }
   ],
   "source": [
    "value_elements_Shanghai = soup.find_all(class_='id-value')\n",
    "values_Shanghai = [element.get_text(strip=True) for element in value_elements_Shanghai]\n",
    "values_Shanghai"
   ]
  },
  {
   "cell_type": "code",
   "execution_count": 15,
   "id": "4290aadd-9c72-482c-b19d-28990094a18c",
   "metadata": {},
   "outputs": [],
   "source": [
    " Shanghai_df = pd.DataFrame({\n",
    "            'Shanghai_Title': titles_Shanghai,\n",
    "            'Shanghai_Value': values_Shanghai\n",
    "        })"
   ]
  },
  {
   "cell_type": "code",
   "execution_count": 16,
   "id": "73e7a5e9-f02e-4e31-b030-f8f79fe2c7aa",
   "metadata": {},
   "outputs": [
    {
     "name": "stdout",
     "output_type": "stream",
     "text": [
      "Data from Shanghai Expo appended to output_data.csv\n"
     ]
    }
   ],
   "source": [
    "def append_to_csv(df, output_data):\n",
    "    df.to_csv(filename, mode='a', header=False, index=False)\n",
    "exist_csvfile = 'output_data.csv'\n",
    "\n",
    "append_to_csv(Shanghai_df, exist_csvfile)\n",
    "\n",
    "print(f\"Data from Shanghai Expo appended to {exist_csvfile}\")"
   ]
  },
  {
   "cell_type": "code",
   "execution_count": 17,
   "id": "4b1ff93b-1273-4148-bb29-352e59b69dad",
   "metadata": {},
   "outputs": [
    {
     "data": {
      "text/plain": [
       "<Response url='https://www.bie-paris.org/site/en/2005-aichi' request=<Request url='https://www.bie-paris.org/site/en/2005-aichi' method='GET'>>"
      ]
     },
     "execution_count": 17,
     "metadata": {},
     "output_type": "execute_result"
    }
   ],
   "source": [
    "from playwright.async_api import async_playwright\n",
    "playwright = await async_playwright().start()\n",
    "browser = await playwright.chromium.launch(headless = False)\n",
    "page = await browser.new_page()\n",
    "await page.goto(\"https://www.bie-paris.org/site/en/2005-aichi\")"
   ]
  },
  {
   "cell_type": "code",
   "execution_count": 18,
   "id": "8fab38fb-09ee-4454-913c-385870751ef2",
   "metadata": {},
   "outputs": [
    {
     "data": {
      "text/plain": [
       "['Host Country',\n",
       " 'Category',\n",
       " 'Dates',\n",
       " 'Theme',\n",
       " 'Official Designation',\n",
       " 'Area (ha)',\n",
       " 'Organisers',\n",
       " 'Visitors',\n",
       " 'Participants']"
      ]
     },
     "execution_count": 18,
     "metadata": {},
     "output_type": "execute_result"
    }
   ],
   "source": [
    "from bs4 import BeautifulSoup\n",
    "html = await page.content()\n",
    "soup = BeautifulSoup(html, 'html.parser')\n",
    "title_elements_Aichi = soup.find_all(class_='id-title')\n",
    "titles_Aichi = [element.get_text(strip=True) for element in title_elements_Aichi]\n",
    "titles_Aichi"
   ]
  },
  {
   "cell_type": "code",
   "execution_count": 19,
   "id": "c156a5d6-777f-419f-9071-27347acc9a33",
   "metadata": {},
   "outputs": [
    {
     "data": {
      "text/plain": [
       "['Japan',\n",
       " 'International Registered exhibition',\n",
       " '25/03/2005 - 25/09/2005',\n",
       " 'Nature’s Wisdom',\n",
       " 'EXPO 2005, Aichi, Japan',\n",
       " '173',\n",
       " 'Japan Association for the 2005 World Exposition',\n",
       " '22,049,544',\n",
       " '121']"
      ]
     },
     "execution_count": 19,
     "metadata": {},
     "output_type": "execute_result"
    }
   ],
   "source": [
    "value_elements_Aichi = soup.find_all(class_='id-value')\n",
    "values_Aichi = [element.get_text(strip=True) for element in value_elements_Aichi]\n",
    "values_Aichi"
   ]
  },
  {
   "cell_type": "code",
   "execution_count": 20,
   "id": "693b7922-6472-4f2f-a239-98651fee534f",
   "metadata": {},
   "outputs": [
    {
     "name": "stdout",
     "output_type": "stream",
     "text": [
      "Data from Aichi Expo appended to output_data.csv\n"
     ]
    }
   ],
   "source": [
    " Aichi_df = pd.DataFrame({\n",
    "            'Aichi_Title': titles_Aichi,\n",
    "            'Aichi_Value': values_Aichi\n",
    "        })\n",
    "\n",
    "def append_to_csv(df, output_data):\n",
    "    df.to_csv(filename, mode='a', header=False, index=False)\n",
    "exist_csvfile = 'output_data.csv'\n",
    "\n",
    "append_to_csv(Aichi_df, exist_csvfile)\n",
    "\n",
    "print(f\"Data from Aichi Expo appended to {exist_csvfile}\")"
   ]
  },
  {
   "cell_type": "code",
   "execution_count": 21,
   "id": "72aeaa26-9e05-49ad-b949-d34b1a0bb184",
   "metadata": {},
   "outputs": [
    {
     "data": {
      "text/plain": [
       "<Response url='https://www.bie-paris.org/site/en/2000-hannover' request=<Request url='https://www.bie-paris.org/site/en/2000-hannover' method='GET'>>"
      ]
     },
     "execution_count": 21,
     "metadata": {},
     "output_type": "execute_result"
    }
   ],
   "source": [
    "from playwright.async_api import async_playwright\n",
    "playwright = await async_playwright().start()\n",
    "browser = await playwright.chromium.launch(headless = False)\n",
    "page = await browser.new_page()\n",
    "await page.goto(\"https://www.bie-paris.org/site/en/2000-hannover\")"
   ]
  },
  {
   "cell_type": "code",
   "execution_count": 22,
   "id": "94cc3446-f492-416e-a920-c1c47ceaf14f",
   "metadata": {},
   "outputs": [
    {
     "data": {
      "text/plain": [
       "['Host Country',\n",
       " 'Category',\n",
       " 'Dates',\n",
       " 'Theme',\n",
       " 'Official Designation',\n",
       " 'Area (ha)',\n",
       " 'Organisers',\n",
       " 'Visitors',\n",
       " 'Participants']"
      ]
     },
     "execution_count": 22,
     "metadata": {},
     "output_type": "execute_result"
    }
   ],
   "source": [
    "from bs4 import BeautifulSoup\n",
    "html = await page.content()\n",
    "soup = BeautifulSoup(html, 'html.parser')\n",
    "title_elements_Hannover = soup.find_all(class_='id-title')\n",
    "titles_Hannover = [element.get_text(strip=True) for element in title_elements_Hannover]\n",
    "titles_Hannover"
   ]
  },
  {
   "cell_type": "code",
   "execution_count": 23,
   "id": "d407210e-ff04-4090-ba45-3c246d12c560",
   "metadata": {},
   "outputs": [
    {
     "data": {
      "text/plain": [
       "['Germany',\n",
       " 'World Exhibition',\n",
       " '01/06/2000 - 31/10/2000',\n",
       " 'Humankind - Nature - Technology',\n",
       " 'Expo 2000 Hannover',\n",
       " '160',\n",
       " 'Expo 2000 Hannover Gmbh',\n",
       " '18,100,000',\n",
       " '174']"
      ]
     },
     "execution_count": 23,
     "metadata": {},
     "output_type": "execute_result"
    }
   ],
   "source": [
    "value_elements_Hannover = soup.find_all(class_='id-value')\n",
    "values_Hannover = [element.get_text(strip=True) for element in value_elements_Hannover]\n",
    "values_Hannover"
   ]
  },
  {
   "cell_type": "code",
   "execution_count": 24,
   "id": "b01abbbb-fe68-49b0-b8de-d651ec9afb22",
   "metadata": {},
   "outputs": [
    {
     "name": "stdout",
     "output_type": "stream",
     "text": [
      "Data from Hannover Expo appended to output_data.csv\n"
     ]
    }
   ],
   "source": [
    " Hannover_df = pd.DataFrame({\n",
    "            'Hannover_Title': titles_Hannover,\n",
    "            'Hannover_Value': values_Hannover\n",
    "        })\n",
    "\n",
    "def append_to_csv(df, output_data):\n",
    "    df.to_csv(filename, mode='a', header=False, index=False)\n",
    "exist_csvfile = 'output_data.csv'\n",
    "\n",
    "append_to_csv(Hannover_df, exist_csvfile)\n",
    "\n",
    "print(f\"Data from Hannover Expo appended to {exist_csvfile}\")"
   ]
  },
  {
   "cell_type": "code",
   "execution_count": null,
   "id": "352b5b88-c0ea-460e-b16b-cc86c255473b",
   "metadata": {},
   "outputs": [],
   "source": []
  }
 ],
 "metadata": {
  "kernelspec": {
   "display_name": "Python 3 (ipykernel)",
   "language": "python",
   "name": "python3"
  },
  "language_info": {
   "codemirror_mode": {
    "name": "ipython",
    "version": 3
   },
   "file_extension": ".py",
   "mimetype": "text/x-python",
   "name": "python",
   "nbconvert_exporter": "python",
   "pygments_lexer": "ipython3",
   "version": "3.11.8"
  }
 },
 "nbformat": 4,
 "nbformat_minor": 5
}
